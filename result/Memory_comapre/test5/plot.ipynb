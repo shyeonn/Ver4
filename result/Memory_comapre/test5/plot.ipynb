{
 "cells": [
  {
   "cell_type": "code",
   "execution_count": 1,
   "metadata": {},
   "outputs": [
    {
     "name": "stdout",
     "output_type": "stream",
     "text": [
      "Copy:           10702.3     0.001498     0.001495     0.001500\n",
      "\n",
      "Scale:          11644.8     0.001374     0.001374     0.001375\n",
      "\n",
      "Add:            12213.5     0.001966     0.001965     0.001966\n",
      "\n",
      "Triad:          12207.5     0.001967     0.001966     0.001967\n",
      "\n",
      "Copy:           11379.2     0.001412     0.001406     0.001417\n",
      "\n",
      "Scale:          11469.6     0.001397     0.001395     0.001399\n",
      "\n",
      "Add:            12592.4     0.001906     0.001906     0.001907\n",
      "\n",
      "Triad:          12591.6     0.001907     0.001906     0.001907\n",
      "\n",
      "Copy:           10540.1     0.001519     0.001518     0.001520\n",
      "\n",
      "Scale:          10746.0     0.001491     0.001489     0.001493\n",
      "\n",
      "Add:            12000.2     0.002001     0.002000     0.002002\n",
      "\n",
      "Triad:          11993.7     0.002002     0.002001     0.002002\n",
      "\n"
     ]
    }
   ],
   "source": [
    "from unittest import FunctionTestCase\n",
    "import pandas as pd\n",
    "import numpy as np\n",
    "import matplotlib as plt\n",
    "\n",
    "\n",
    "Function = ['Copy', 'Scale', 'Add', 'Triad']\n",
    "MemName = ['DDR4_2400_16x4', 'GDDR5_4000_2x32', 'HBM_2000_4H_1x64']\n",
    "values = np.empty(shape=(4,3))\n",
    "\n",
    "\n",
    "\n",
    "def check_string():\n",
    "    i = 0\n",
    "    j = 0\n",
    "    for Name in MemName:\n",
    "        with open('result_' + Name + '.txt') as temp_f:\n",
    "            datafile = temp_f.readlines()\n",
    "        for line in datafile:\n",
    "            for name in Function:\n",
    "                if name in line:\n",
    "                    print(line)\n",
    "                    values[j][i] = line[16:23]\n",
    "                    j = j+1\n",
    "                    \n",
    "        i = i+1\n",
    "        j = 0\n",
    "\n",
    "check_string()"
   ]
  },
  {
   "cell_type": "code",
   "execution_count": 2,
   "metadata": {},
   "outputs": [
    {
     "name": "stdout",
     "output_type": "stream",
     "text": [
      "       DDR4_2400_16x4  GDDR5_4000_2x32  HBM_2000_4H_1x64\n",
      "Copy          10702.3          11379.2           10540.1\n",
      "Scale         11644.8          11469.6           10746.0\n",
      "Add           12213.5          12592.4           12000.2\n",
      "Triad         12207.5          12591.6           11993.7\n"
     ]
    }
   ],
   "source": [
    "df = pd.DataFrame(values, index=Function, columns=MemName)\n",
    "print(df)"
   ]
  },
  {
   "cell_type": "code",
   "execution_count": 35,
   "metadata": {},
   "outputs": [],
   "source": [
    "import os\n",
    "mypath = os.getcwd()\n",
    "splitpath = os.path.split(mypath)\n",
    "path = '../All/' + splitpath[1] + '.csv'"
   ]
  },
  {
   "cell_type": "code",
   "execution_count": 38,
   "metadata": {},
   "outputs": [
    {
     "ename": "AttributeError",
     "evalue": "'function' object has no attribute 'savefig'",
     "output_type": "error",
     "traceback": [
      "\u001b[0;31m---------------------------------------------------------------------------\u001b[0m",
      "\u001b[0;31mAttributeError\u001b[0m                            Traceback (most recent call last)",
      "\u001b[1;32m/workspaces/bootcamp-assignment-shyeonn/Ver4/result/test5/plot.ipynb Cell 4\u001b[0m in \u001b[0;36m<cell line: 7>\u001b[0;34m()\u001b[0m\n\u001b[1;32m      <a href='vscode-notebook-cell://codespaces%2Bgem5bootcamp-bootcamp-assignment-shyeonn-xqr7rgv5f6qvq/workspaces/bootcamp-assignment-shyeonn/Ver4/result/test5/plot.ipynb#ch0000002vscode-remote?line=0'>1</a>\u001b[0m \u001b[39m#fig = df.plot()\u001b[39;00m\n\u001b[1;32m      <a href='vscode-notebook-cell://codespaces%2Bgem5bootcamp-bootcamp-assignment-shyeonn-xqr7rgv5f6qvq/workspaces/bootcamp-assignment-shyeonn/Ver4/result/test5/plot.ipynb#ch0000002vscode-remote?line=1'>2</a>\u001b[0m \u001b[39m#fig.title(\"Name\")\u001b[39;00m\n\u001b[1;32m      <a href='vscode-notebook-cell://codespaces%2Bgem5bootcamp-bootcamp-assignment-shyeonn-xqr7rgv5f6qvq/workspaces/bootcamp-assignment-shyeonn/Ver4/result/test5/plot.ipynb#ch0000002vscode-remote?line=2'>3</a>\u001b[0m \u001b[39m#fig.tight_layout\u001b[39;00m\n\u001b[1;32m      <a href='vscode-notebook-cell://codespaces%2Bgem5bootcamp-bootcamp-assignment-shyeonn-xqr7rgv5f6qvq/workspaces/bootcamp-assignment-shyeonn/Ver4/result/test5/plot.ipynb#ch0000002vscode-remote?line=3'>4</a>\u001b[0m \u001b[39m#fig.get_figure.savefig(\"plot.png\",dpi=300, facecolor='white', format = 'png', transparent= False)\u001b[39;00m\n\u001b[1;32m      <a href='vscode-notebook-cell://codespaces%2Bgem5bootcamp-bootcamp-assignment-shyeonn-xqr7rgv5f6qvq/workspaces/bootcamp-assignment-shyeonn/Ver4/result/test5/plot.ipynb#ch0000002vscode-remote?line=5'>6</a>\u001b[0m fig \u001b[39m=\u001b[39m df\u001b[39m.\u001b[39mplot(title \u001b[39m=\u001b[39m splitpath[\u001b[39m1\u001b[39m])\n\u001b[0;32m----> <a href='vscode-notebook-cell://codespaces%2Bgem5bootcamp-bootcamp-assignment-shyeonn-xqr7rgv5f6qvq/workspaces/bootcamp-assignment-shyeonn/Ver4/result/test5/plot.ipynb#ch0000002vscode-remote?line=6'>7</a>\u001b[0m fig\u001b[39m.\u001b[39;49mget_figure\u001b[39m.\u001b[39;49msavefig(\u001b[39m\"\u001b[39m\u001b[39mplot.png\u001b[39m\u001b[39m\"\u001b[39m,dpi\u001b[39m=\u001b[39m\u001b[39m300\u001b[39m, facecolor\u001b[39m=\u001b[39m\u001b[39m'\u001b[39m\u001b[39mwhite\u001b[39m\u001b[39m'\u001b[39m, \u001b[39mformat\u001b[39m \u001b[39m=\u001b[39m \u001b[39m'\u001b[39m\u001b[39mpng\u001b[39m\u001b[39m'\u001b[39m, transparent\u001b[39m=\u001b[39m \u001b[39mFalse\u001b[39;00m)\n\u001b[1;32m      <a href='vscode-notebook-cell://codespaces%2Bgem5bootcamp-bootcamp-assignment-shyeonn-xqr7rgv5f6qvq/workspaces/bootcamp-assignment-shyeonn/Ver4/result/test5/plot.ipynb#ch0000002vscode-remote?line=8'>9</a>\u001b[0m \u001b[39m#fig.savefig(\"plot.png\",dpi=200,facecolor=fig.get_facecolor(),bbox_inches='tight')\u001b[39;00m\n\u001b[1;32m     <a href='vscode-notebook-cell://codespaces%2Bgem5bootcamp-bootcamp-assignment-shyeonn-xqr7rgv5f6qvq/workspaces/bootcamp-assignment-shyeonn/Ver4/result/test5/plot.ipynb#ch0000002vscode-remote?line=10'>11</a>\u001b[0m dfT\u001b[39m=\u001b[39mdf\u001b[39m.\u001b[39mtranspose()\n",
      "\u001b[0;31mAttributeError\u001b[0m: 'function' object has no attribute 'savefig'"
     ]
    },
    {
     "data": {
      "image/png": "[encoded data removed]",
      "text/plain": [
       "<Figure size 432x288 with 1 Axes>"
      ]
     },
     "metadata": {
      "needs_background": "light"
     },
     "output_type": "display_data"
    }
   ],
   "source": [
    "#fig = df.plot()\n",
    "#fig.title(\"Name\")\n",
    "#fig.tight_layout\n",
    "#fig.get_figure.savefig(\"plot.png\",dpi=300, facecolor='white', format = 'png', transparent= False)\n",
    "\n",
    "fig = df.plot(title = splitpath[1])\n",
    "fig.get_figure.savefig(\"plot.png\",dpi=300, facecolor='white', format = 'png', transparent= False)\n",
    "\n",
    "#fig.savefig(\"plot.png\",dpi=200,facecolor=fig.get_facecolor(),bbox_inches='tight')\n",
    "\n",
    "dfT=df.transpose()\n",
    "dfT.plot.bar(stacked = True, width=0.3)\n"
   ]
  },
  {
   "cell_type": "code",
   "execution_count": 5,
   "metadata": {},
   "outputs": [],
   "source": [
    "average = df.mean()\n",
    "average.to_csv(path)"
   ]
  }
 ],
 "metadata": {
  "kernelspec": {
   "display_name": "Python 3.8.10 64-bit",
   "language": "python",
   "name": "python3"
  },
  "language_info": {
   "codemirror_mode": {
    "name": "ipython",
    "version": 3
   },
   "file_extension": ".py",
   "mimetype": "text/x-python",
   "name": "python",
   "nbconvert_exporter": "python",
   "pygments_lexer": "ipython3",
   "version": "3.8.10"
  },
  "orig_nbformat": 4,
  "vscode": {
   "interpreter": {
    "hash": "767d51c1340bd893661ea55ea3124f6de3c7a262a8b4abca0554b478b1e2ff90"
   }
  }
 },
 "nbformat": 4,
 "nbformat_minor": 2
}
