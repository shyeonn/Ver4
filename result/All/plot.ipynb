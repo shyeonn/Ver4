{
 "cells": [
  {
   "cell_type": "code",
   "execution_count": 1,
   "metadata": {},
   "outputs": [
    {
     "name": "stdout",
     "output_type": "stream",
     "text": [
      "Copy:           10088.5     0.001586     0.001586     0.001586\n",
      "\n",
      "Scale:          11258.9     0.001422     0.001421     0.001422\n",
      "\n",
      "Add:            12195.7     0.001968     0.001968     0.001968\n",
      "\n",
      "Triad:          12195.0     0.001969     0.001968     0.001969\n",
      "\n",
      "Copy:           10803.1     0.001487     0.001481     0.001494\n",
      "\n",
      "Scale:          10936.0     0.001470     0.001463     0.001477\n",
      "\n",
      "Add:            12585.3     0.001908     0.001907     0.001909\n",
      "\n",
      "Triad:          12565.6     0.001911     0.001910     0.001911\n",
      "\n",
      "Copy:            9975.3     0.001605     0.001604     0.001606\n",
      "\n",
      "Scale:          10283.3     0.001557     0.001556     0.001558\n",
      "\n",
      "Add:            12012.3     0.001998     0.001998     0.001998\n",
      "\n",
      "Triad:          12000.2     0.002000     0.002000     0.002000\n",
      "\n"
     ]
    }
   ],
   "source": [
    "from unittest import FunctionTestCase\n",
    "import pandas as pd\n",
    "import numpy as np\n",
    "import matplotlib as plt\n",
    "\n",
    "\n",
    "Function = ['Copy', 'Scale', 'Add', 'Triad']\n",
    "MemName = ['DDR4_2400_16x4', 'GDDR5_4000_2x32', 'HBM_2000_4H_1x64']\n",
    "values = np.empty(shape=(4,3))\n",
    "\n",
    "\n",
    "\n",
    "def check_string():\n",
    "    i = 0\n",
    "    j = 0\n",
    "    for Name in MemName:\n",
    "        with open('result_' + Name + '.txt') as temp_f:\n",
    "            datafile = temp_f.readlines()\n",
    "        for line in datafile:\n",
    "            for name in Function:\n",
    "                if name in line:\n",
    "                    print(line)\n",
    "                    values[j][i] = line[16:23]\n",
    "                    j = j+1\n",
    "                    \n",
    "        i = i+1\n",
    "        j = 0\n",
    "\n",
    "check_string()"
   ]
  },
  {
   "cell_type": "code",
   "execution_count": 3,
   "metadata": {},
   "outputs": [
    {
     "ename": "NameError",
     "evalue": "name 'pd' is not defined",
     "output_type": "error",
     "traceback": [
      "\u001b[0;31m---------------------------------------------------------------------------\u001b[0m",
      "\u001b[0;31mNameError\u001b[0m                                 Traceback (most recent call last)",
      "\u001b[1;32m/workspaces/bootcamp-assignment-shyeonn/Ver4/result/All/plot.ipynb Cell 2\u001b[0m in \u001b[0;36m<cell line: 1>\u001b[0;34m()\u001b[0m\n\u001b[0;32m----> <a href='vscode-notebook-cell://codespaces%2Bgem5bootcamp-bootcamp-assignment-shyeonn-xqr7rgv5f6qvq/workspaces/bootcamp-assignment-shyeonn/Ver4/result/All/plot.ipynb#ch0000001vscode-remote?line=0'>1</a>\u001b[0m df \u001b[39m=\u001b[39m pd\u001b[39m.\u001b[39mDataFrame(values, index\u001b[39m=\u001b[39mFunction, columns\u001b[39m=\u001b[39mMemName)\n\u001b[1;32m      <a href='vscode-notebook-cell://codespaces%2Bgem5bootcamp-bootcamp-assignment-shyeonn-xqr7rgv5f6qvq/workspaces/bootcamp-assignment-shyeonn/Ver4/result/All/plot.ipynb#ch0000001vscode-remote?line=1'>2</a>\u001b[0m average \u001b[39m=\u001b[39m df\u001b[39m.\u001b[39mmean()\n\u001b[1;32m      <a href='vscode-notebook-cell://codespaces%2Bgem5bootcamp-bootcamp-assignment-shyeonn-xqr7rgv5f6qvq/workspaces/bootcamp-assignment-shyeonn/Ver4/result/All/plot.ipynb#ch0000001vscode-remote?line=4'>5</a>\u001b[0m \u001b[39mprint\u001b[39m(df)\n",
      "\u001b[0;31mNameError\u001b[0m: name 'pd' is not defined"
     ]
    }
   ],
   "source": [
    "df = pd.DataFrame(values, index=Function, columns=MemName)\n",
    "average = df.mean()\n",
    "\n",
    "\n",
    "print(df)"
   ]
  },
  {
   "cell_type": "code",
   "execution_count": 2,
   "metadata": {},
   "outputs": [
    {
     "ename": "NameError",
     "evalue": "name 'df' is not defined",
     "output_type": "error",
     "traceback": [
      "\u001b[0;31m---------------------------------------------------------------------------\u001b[0m",
      "\u001b[0;31mNameError\u001b[0m                                 Traceback (most recent call last)",
      "\u001b[1;32m/workspaces/bootcamp-assignment-shyeonn/Ver4/result/All/plot.ipynb Cell 3\u001b[0m in \u001b[0;36m<cell line: 1>\u001b[0;34m()\u001b[0m\n\u001b[0;32m----> <a href='vscode-notebook-cell://codespaces%2Bgem5bootcamp-bootcamp-assignment-shyeonn-xqr7rgv5f6qvq/workspaces/bootcamp-assignment-shyeonn/Ver4/result/All/plot.ipynb#ch0000002vscode-remote?line=0'>1</a>\u001b[0m plot \u001b[39m=\u001b[39m df\u001b[39m.\u001b[39mplot()\n",
      "\u001b[0;31mNameError\u001b[0m: name 'df' is not defined"
     ]
    }
   ],
   "source": [
    "plot = df.plot()\n",
    "#dfT=df.transpose()\n",
    "#dfT.plot.bar(stacked = True, width=0.3)\n"
   ]
  },
  {
   "cell_type": "code",
   "execution_count": 14,
   "metadata": {},
   "outputs": [
    {
     "name": "stdout",
     "output_type": "stream",
     "text": [
      "../All/{splitpath}.csv\n"
     ]
    }
   ],
   "source": [
    "import os\n",
    "mypath = os.getcwd()\n",
    "\n",
    "splitpath = os.path.split(mypath)\n",
    "path = \"../All/{splitpath}.csv\"\n",
    "print(path)\n",
    "#average.to_csv(path)"
   ]
  },
  {
   "cell_type": "code",
   "execution_count": null,
   "metadata": {},
   "outputs": [],
   "source": []
  }
 ],
 "metadata": {
  "kernelspec": {
   "display_name": "Python 3.8.10 64-bit",
   "language": "python",
   "name": "python3"
  },
  "language_info": {
   "codemirror_mode": {
    "name": "ipython",
    "version": 3
   },
   "file_extension": ".py",
   "mimetype": "text/x-python",
   "name": "python",
   "nbconvert_exporter": "python",
   "pygments_lexer": "ipython3",
   "version": "3.8.10"
  },
  "orig_nbformat": 4,
  "vscode": {
   "interpreter": {
    "hash": "767d51c1340bd893661ea55ea3124f6de3c7a262a8b4abca0554b478b1e2ff90"
   }
  }
 },
 "nbformat": 4,
 "nbformat_minor": 2
}
