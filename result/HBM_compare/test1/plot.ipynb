{
 "cells": [
  {
   "cell_type": "code",
   "execution_count": 1,
   "metadata": {},
   "outputs": [
    {
     "name": "stdout",
     "output_type": "stream",
     "text": [
      "Copy:              29.3     0.545525     0.545525     0.545525\n",
      "\n",
      "Scale:             19.8     0.807336     0.807336     0.807336\n",
      "\n",
      "Add:               32.3     0.742290     0.742290     0.742291\n",
      "\n",
      "Triad:             32.3     0.742290     0.742290     0.742291\n",
      "\n",
      "Copy:              29.3     0.545469     0.545469     0.545470\n",
      "\n",
      "Scale:             19.9     0.805662     0.805662     0.805662\n",
      "\n",
      "Add:               32.4     0.741359     0.741339     0.741379\n",
      "\n",
      "Triad:             32.4     0.740369     0.740346     0.740392\n",
      "\n",
      "Copy:              29.3     0.545438     0.545438     0.545438\n",
      "\n",
      "Scale:             19.9     0.805287     0.805286     0.805287\n",
      "\n",
      "Add:               32.4     0.740447     0.740425     0.740469\n",
      "\n",
      "Triad:             32.4     0.740393     0.740391     0.740394\n",
      "\n",
      "Copy:              29.3     0.545423     0.545423     0.545423\n",
      "\n",
      "Scale:             19.9     0.805170     0.805055     0.805285\n",
      "\n",
      "Add:               32.4     0.740362     0.740330     0.740393\n",
      "\n",
      "Triad:             32.4     0.740358     0.740323     0.740393\n",
      "\n",
      "Copy:              29.3     0.545422     0.545421     0.545423\n",
      "\n",
      "Scale:             19.9     0.804528     0.804527     0.804528\n",
      "\n",
      "Add:               32.4     0.740269     0.740264     0.740273\n",
      "\n",
      "Triad:             32.4     0.740245     0.740239     0.740252\n",
      "\n"
     ]
    }
   ],
   "source": [
    "from unittest import FunctionTestCase\n",
    "import pandas as pd\n",
    "import numpy as np\n",
    "\n",
    "\n",
    "Function = ['Copy', 'Scale', 'Add', 'Triad']\n",
    "Channel_num = ['1', '2', '4', '8', '16']\n",
    "values = np.empty(shape=(4,5))\n",
    "\n",
    "\n",
    "\n",
    "def check_string():\n",
    "    i = 0\n",
    "    j = 0\n",
    "    for channel_num in Channel_num:\n",
    "        with open(channel_num +'channel.txt') as temp_f:\n",
    "            datafile = temp_f.readlines()\n",
    "        for line in datafile:\n",
    "            for name in Function:\n",
    "                if name in line:\n",
    "                    print(line)\n",
    "                    values[j][i] = line[16:23]\n",
    "                    j = j+1\n",
    "                    \n",
    "        i = i+1\n",
    "        j = 0\n",
    "\n",
    "check_string()"
   ]
  },
  {
   "cell_type": "code",
   "execution_count": 2,
   "metadata": {},
   "outputs": [
    {
     "name": "stdout",
     "output_type": "stream",
     "text": [
      "          1     2     4     8    16\n",
      "Copy   29.3  29.3  29.3  29.3  29.3\n",
      "Scale  19.8  19.9  19.9  19.9  19.9\n",
      "Add    32.3  32.4  32.4  32.4  32.4\n",
      "Triad  32.3  32.4  32.4  32.4  32.4\n"
     ]
    }
   ],
   "source": [
    "df = pd.DataFrame(values, index=Function, columns=Channel_num)\n",
    "average = df.mean()\n",
    "\n",
    "\n",
    "print(df)"
   ]
  },
  {
   "cell_type": "code",
   "execution_count": 3,
   "metadata": {},
   "outputs": [
    {
     "data": {
      "text/plain": [
       "Text(0, 0.5, 'BW (MB/s)')"
      ]
     },
     "execution_count": 3,
     "metadata": {},
     "output_type": "execute_result"
    },
    {
     "data": {
      "image/png": "[encoded data removed]",
      "text/plain": [
       "<Figure size 432x288 with 1 Axes>"
      ]
     },
     "metadata": {
      "needs_background": "light"
     },
     "output_type": "display_data"
    }
   ],
   "source": [
    "#average.plot(title = 'CPU1', xlable='Num_Channel', y= 'Bandwidth_avarage')\n",
    "ax= average.plot(title='TimingsimpleCPU / 1_core / no_cache / no_openMP')\n",
    "ax.set_xlabel(\"HBM channel#\")\n",
    "ax.set_ylabel(\"BW (MB/s)\")\n",
    "\n"
   ]
  },
  {
   "cell_type": "code",
   "execution_count": 4,
   "metadata": {},
   "outputs": [
    {
     "name": "stdout",
     "output_type": "stream",
     "text": [
      "('/workspaces/bootcamp-assignment-shyeonn/Ver4/result/HBM_compare', 'test1')\n"
     ]
    }
   ],
   "source": [
    "import os\n",
    "mypath = os.getcwd()\n",
    "\n",
    "splitpath = os.path.split(mypath)\n",
    "print(splitpath)\n",
    "#average.to_csv('../All/test{splitpath[1]}.csv')"
   ]
  },
  {
   "cell_type": "code",
   "execution_count": null,
   "metadata": {},
   "outputs": [],
   "source": []
  }
 ],
 "metadata": {
  "kernelspec": {
   "display_name": "Python 3.8.10 64-bit",
   "language": "python",
   "name": "python3"
  },
  "language_info": {
   "codemirror_mode": {
    "name": "ipython",
    "version": 3
   },
   "file_extension": ".py",
   "mimetype": "text/x-python",
   "name": "python",
   "nbconvert_exporter": "python",
   "pygments_lexer": "ipython3",
   "version": "3.8.10"
  },
  "orig_nbformat": 4,
  "vscode": {
   "interpreter": {
    "hash": "767d51c1340bd893661ea55ea3124f6de3c7a262a8b4abca0554b478b1e2ff90"
   }
  }
 },
 "nbformat": 4,
 "nbformat_minor": 2
}
