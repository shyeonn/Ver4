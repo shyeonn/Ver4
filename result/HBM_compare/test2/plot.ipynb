{
 "cells": [
  {
   "cell_type": "code",
   "execution_count": 2,
   "metadata": {},
   "outputs": [
    {
     "name": "stdout",
     "output_type": "stream",
     "text": [
      "Copy:              48.1     0.332489     0.332489     0.332489\n",
      "\n",
      "Scale:             19.8     0.807335     0.807335     0.807336\n",
      "\n",
      "Add:               32.3     0.742290     0.742290     0.742291\n",
      "\n",
      "Triad:             27.5     0.872456     0.872456     0.872457\n",
      "\n",
      "Copy:              48.2     0.332155     0.332153     0.332157\n",
      "\n",
      "Scale:             19.9     0.805555     0.805539     0.805572\n",
      "\n",
      "Add:               32.4     0.741335     0.741314     0.741342\n",
      "\n",
      "Triad:             27.5     0.871318     0.871317     0.871318\n",
      "\n",
      "Copy:              48.2     0.331726     0.331715     0.331731\n",
      "\n",
      "Scale:             19.9     0.805262     0.805192     0.805286\n",
      "\n",
      "Add:               32.4     0.740406     0.740393     0.740425\n",
      "\n",
      "Triad:             27.5     0.871174     0.871156     0.871191\n",
      "\n",
      "Copy:              48.3     0.331495     0.331493     0.331498\n",
      "\n",
      "Scale:             19.9     0.805129     0.805034     0.805285\n",
      "\n",
      "Add:               32.4     0.740373     0.740317     0.740393\n",
      "\n",
      "Triad:             27.5     0.871203     0.871176     0.871223\n",
      "\n",
      "Copy:              48.3     0.331400     0.331397     0.331403\n",
      "\n",
      "Scale:             19.9     0.804527     0.804527     0.804528\n",
      "\n",
      "Add:               32.4     0.740265     0.740251     0.740273\n",
      "\n",
      "Triad:             27.6     0.871064     0.871061     0.871066\n",
      "\n"
     ]
    }
   ],
   "source": [
    "from unittest import FunctionTestCase\n",
    "import pandas as pd\n",
    "import numpy as np\n",
    "\n",
    "\n",
    "Function = ['Copy', 'Scale', 'Add', 'Triad']\n",
    "Channel_num = ['1', '2', '4', '8', '16']\n",
    "values = np.empty(shape=(4,5))\n",
    "\n",
    "\n",
    "\n",
    "def check_string():\n",
    "    i = 0\n",
    "    j = 0\n",
    "    for channel_num in Channel_num:\n",
    "        with open(channel_num +'channel.txt') as temp_f:\n",
    "            datafile = temp_f.readlines()\n",
    "        for line in datafile:\n",
    "            for name in Function:\n",
    "                if name in line:\n",
    "                    print(line)\n",
    "                    values[j][i] = line[16:23]\n",
    "                    j = j+1\n",
    "                    \n",
    "        i = i+1\n",
    "        j = 0\n",
    "\n",
    "check_string()"
   ]
  },
  {
   "cell_type": "code",
   "execution_count": 3,
   "metadata": {},
   "outputs": [
    {
     "name": "stdout",
     "output_type": "stream",
     "text": [
      "          1     2     4     8    16\n",
      "Copy   48.1  48.2  48.2  48.3  48.3\n",
      "Scale  19.8  19.9  19.9  19.9  19.9\n",
      "Add    32.3  32.4  32.4  32.4  32.4\n",
      "Triad  27.5  27.5  27.5  27.5  27.6\n"
     ]
    }
   ],
   "source": [
    "df = pd.DataFrame(values, index=Function, columns=Channel_num)\n",
    "average = df.mean()\n",
    "\n",
    "\n",
    "print(df)"
   ]
  },
  {
   "cell_type": "code",
   "execution_count": 6,
   "metadata": {},
   "outputs": [
    {
     "data": {
      "text/plain": [
       "Text(0, 0.5, 'BW (MB/s)')"
      ]
     },
     "execution_count": 6,
     "metadata": {},
     "output_type": "execute_result"
    },
    {
     "data": {
      "image/png": "[encoded data removed]",
      "text/plain": [
       "<Figure size 432x288 with 1 Axes>"
      ]
     },
     "metadata": {
      "needs_background": "light"
     },
     "output_type": "display_data"
    }
   ],
   "source": [
    "#average.plot(title = 'CPU1', xlable='Num_Channel', y= 'Bandwidth_avarage')\n",
    "ax= average.plot(title='TimingsimpleCPU / 1_core / no_cache / no_openMP / memmove')\n",
    "ax.set_xlabel(\"HBM channel#\")\n",
    "ax.set_ylabel(\"BW (MB/s)\")\n",
    "\n"
   ]
  },
  {
   "cell_type": "code",
   "execution_count": 5,
   "metadata": {},
   "outputs": [
    {
     "name": "stdout",
     "output_type": "stream",
     "text": [
      "('/workspaces/bootcamp-assignment-shyeonn/Ver4/result/HBM_compare', 'test2')\n"
     ]
    }
   ],
   "source": [
    "import os\n",
    "mypath = os.getcwd()\n",
    "\n",
    "splitpath = os.path.split(mypath)\n",
    "print(splitpath)\n",
    "#average.to_csv('../All/test{splitpath[1]}.csv')"
   ]
  },
  {
   "cell_type": "code",
   "execution_count": null,
   "metadata": {},
   "outputs": [],
   "source": []
  }
 ],
 "metadata": {
  "kernelspec": {
   "display_name": "Python 3.8.10 64-bit",
   "language": "python",
   "name": "python3"
  },
  "language_info": {
   "codemirror_mode": {
    "name": "ipython",
    "version": 3
   },
   "file_extension": ".py",
   "mimetype": "text/x-python",
   "name": "python",
   "nbconvert_exporter": "python",
   "pygments_lexer": "ipython3",
   "version": "3.8.10"
  },
  "orig_nbformat": 4,
  "vscode": {
   "interpreter": {
    "hash": "767d51c1340bd893661ea55ea3124f6de3c7a262a8b4abca0554b478b1e2ff90"
   }
  }
 },
 "nbformat": 4,
 "nbformat_minor": 2
}
