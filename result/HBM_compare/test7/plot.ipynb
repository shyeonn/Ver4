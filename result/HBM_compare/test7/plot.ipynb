{
 "cells": [
  {
   "cell_type": "code",
   "execution_count": null,
   "metadata": {},
   "outputs": [
    {
     "ename": "",
     "evalue": "",
     "output_type": "error",
     "traceback": [
      "\u001b[1;31mRunning cells with 'Python 3.8.0 64-bit' requires ipykernel package.\n",
      "Run the following command to install 'ipykernel' into the Python environment. \n",
      "Command: '/usr/bin/python3.8 -m pip install ipykernel -U --user --force-reinstall'"
     ]
    }
   ],
   "source": [
    "from unittest import FunctionTestCase\n",
    "import pandas as pd\n",
    "import numpy as np\n",
    "\n",
    "\n",
    "Function = ['Copy', 'Scale', 'Add', 'Triad']\n",
    "Channel_num = ['1', '2', '4', '8', '16', '32']\n",
    "values = np.empty(shape=(4,6))\n",
    "\n",
    "\n",
    "\n",
    "def check_string():\n",
    "    i = 0\n",
    "    j = 0\n",
    "    for channel_num in Channel_num:\n",
    "        with open(channel_num +'channel.txt') as temp_f:\n",
    "            datafile = temp_f.readlines()\n",
    "        for line in datafile:\n",
    "            for name in Function:\n",
    "                if name in line:\n",
    "                    print(line)\n",
    "                    values[j][i] = line[16:23]\n",
    "                    j = j+1\n",
    "                    \n",
    "        i = i+1\n",
    "        j = 0\n",
    "\n",
    "check_string()"
   ]
  },
  {
   "cell_type": "code",
   "execution_count": null,
   "metadata": {},
   "outputs": [
    {
     "ename": "",
     "evalue": "",
     "output_type": "error",
     "traceback": [
      "\u001b[1;31mRunning cells with 'Python 3.8.0 64-bit' requires ipykernel package.\n",
      "Run the following command to install 'ipykernel' into the Python environment. \n",
      "Command: '/usr/bin/python3.8 -m pip install ipykernel -U --user --force-reinstall'"
     ]
    }
   ],
   "source": [
    "df = pd.DataFrame(values, index=Function, columns=Channel_num)\n",
    "average = df.mean()\n",
    "df.plot()\n",
    "\n"
   ]
  },
  {
   "cell_type": "code",
   "execution_count": null,
   "metadata": {},
   "outputs": [
    {
     "ename": "",
     "evalue": "",
     "output_type": "error",
     "traceback": [
      "\u001b[1;31mRunning cells with 'Python 3.8.0 64-bit' requires ipykernel package.\n",
      "Run the following command to install 'ipykernel' into the Python environment. \n",
      "Command: '/usr/bin/python3.8 -m pip install ipykernel -U --user --force-reinstall'"
     ]
    }
   ],
   "source": [
    "#average.plot(title = 'CPU1', xlable='Num_Channel', y= 'Bandwidth_avarage')\n",
    "ax= average.plot(title='TimingsimpleCPU / 1_core / l1_cache / no_openMP / memmove')\n",
    "ax.set_xlabel(\"HBM channel#\")\n",
    "ax.set_ylabel(\"BW (MB/s)\")\n",
    "\n"
   ]
  },
  {
   "cell_type": "code",
   "execution_count": null,
   "metadata": {},
   "outputs": [
    {
     "ename": "",
     "evalue": "",
     "output_type": "error",
     "traceback": [
      "\u001b[1;31mRunning cells with 'Python 3.8.0 64-bit' requires ipykernel package.\n",
      "Run the following command to install 'ipykernel' into the Python environment. \n",
      "Command: '/usr/bin/python3.8 -m pip install ipykernel -U --user --force-reinstall'"
     ]
    }
   ],
   "source": [
    "import os\n",
    "mypath = os.getcwd()\n",
    "\n",
    "splitpath = os.path.split(mypath)\n",
    "print(splitpath)\n",
    "average.to_csv('../Average/test{splitpath[1]}.csv')"
   ]
  },
  {
   "cell_type": "code",
   "execution_count": null,
   "metadata": {},
   "outputs": [
    {
     "ename": "",
     "evalue": "",
     "output_type": "error",
     "traceback": [
      "\u001b[1;31mRunning cells with 'Python 3.8.0 64-bit' requires ipykernel package.\n",
      "Run the following command to install 'ipykernel' into the Python environment. \n",
      "Command: '/usr/bin/python3.8 -m pip install ipykernel -U --user --force-reinstall'"
     ]
    }
   ],
   "source": []
  }
 ],
 "metadata": {
  "kernelspec": {
   "display_name": "Python 3.8.0 64-bit",
   "language": "python",
   "name": "python3"
  },
  "language_info": {
   "codemirror_mode": {
    "name": "ipython",
    "version": 3
   },
   "file_extension": ".py",
   "mimetype": "text/x-python",
   "name": "python",
   "nbconvert_exporter": "python",
   "pygments_lexer": "ipython3",
   "version": "3.8.0"
  },
  "orig_nbformat": 4,
  "vscode": {
   "interpreter": {
    "hash": "df0893f56f349688326838aaeea0de204df53a132722cbd565e54b24a8fec5f6"
   }
  }
 },
 "nbformat": 4,
 "nbformat_minor": 2
}
